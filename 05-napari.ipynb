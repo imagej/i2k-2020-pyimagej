{
 "cells": [
  {
   "cell_type": "markdown",
   "metadata": {},
   "source": [
    "### Initialize Napari"
   ]
  },
  {
   "cell_type": "code",
   "execution_count": 4,
   "metadata": {},
   "outputs": [],
   "source": [
    "%gui qt5\n",
    "# Note that this Magics command needs to be run in a cell\n",
    "# before any of the Napari objects are instantiated to\n",
    "# ensure it has time to finish executing before they are\n",
    "# called\n",
    "\n",
    "import napari"
   ]
  },
  {
   "cell_type": "markdown",
   "metadata": {},
   "source": [
    "### Initialize ImageJ"
   ]
  },
  {
   "cell_type": "code",
   "execution_count": 5,
   "metadata": {},
   "outputs": [],
   "source": [
    "import imagej\n",
    "ij = imagej.init()\n"
   ]
  },
  {
   "cell_type": "markdown",
   "metadata": {},
   "source": [
    "### Open and segment an image in ImageJ"
   ]
  },
  {
   "cell_type": "code",
   "execution_count": 13,
   "metadata": {},
   "outputs": [
    {
     "name": "stderr",
     "output_type": "stream",
     "text": [
      "[java.lang.Enum.toString] [INFO] Populating metadata\r\n"
     ]
    }
   ],
   "source": [
    "url_colony = 'https://wsr.imagej.net/images/Cell_Colony.jpg'\n",
    "\n",
    "# Load the image\n",
    "cell_colony = ij.io().open(url_colony)\n",
    "\n",
    "# TODO: auto-threshold and create mask\n",
    "\n",
    "# TODO label the segmentation?\n",
    "# Can just do this in skimage - see https://napari.org/tutorials/fundamentals/labels\n",
    "\n"
   ]
  },
  {
   "cell_type": "markdown",
   "metadata": {},
   "source": [
    "### Display the segmented image in Napari"
   ]
  },
  {
   "cell_type": "code",
   "execution_count": 11,
   "metadata": {},
   "outputs": [],
   "source": [
    "# Convert the image to numpy\n",
    "numpy_colony = ij.py.from_java(cell_colony)\n",
    "\n",
    "with napari.gui_qt():\n",
    "    # create the viewer and add the coins image\n",
    "    viewer = napari.view_image(numpy_colony, name='colony')\n",
    "    # add the labels\n",
    "    viewer.add_labels(label_image, name='segmentation')\n",
    "\n"
   ]
  },
  {
   "cell_type": "code",
   "execution_count": 15,
   "metadata": {},
   "outputs": [
    {
     "data": {
      "text/plain": [
       "<napari.viewer.Viewer at 0x2579d94ee08>"
      ]
     },
     "execution_count": 15,
     "metadata": {},
     "output_type": "execute_result"
    }
   ],
   "source": [
    "# TODO This is sufficient to open the image in napari. Use or remove this cell\n",
    "napari.view_image(numpy_colony, name='colony')\n"
   ]
  }
 ],
 "metadata": {
  "kernelspec": {
   "display_name": "Python 3",
   "language": "python",
   "name": "python3"
  },
  "language_info": {
   "codemirror_mode": {
    "name": "ipython",
    "version": 3
   },
   "file_extension": ".py",
   "mimetype": "text/x-python",
   "name": "python",
   "nbconvert_exporter": "python",
   "pygments_lexer": "ipython3",
   "version": "3.7.8"
  },
  "toc": {
   "base_numbering": 1,
   "nav_menu": {},
   "number_sections": true,
   "sideBar": true,
   "skip_h1_title": true,
   "title_cell": "Table of Contents",
   "title_sidebar": "Contents",
   "toc_cell": false,
   "toc_position": {
    "height": "calc(100% - 180px)",
    "left": "10px",
    "top": "150px",
    "width": "307px"
   },
   "toc_section_display": true,
   "toc_window_display": true
  }
 },
 "nbformat": 4,
 "nbformat_minor": 4
}
