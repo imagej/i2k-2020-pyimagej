{
 "cells": [
  {
   "cell_type": "markdown",
   "metadata": {},
   "source": [
    "# PyImageJ + ITK\n",
    "\n",
    "This notebook introduces how to combine ImageJ with the Insight Toolkit (ITK). It was adapted from the [itkwidgets example ImageJ notebook](https://github.com/InsightSoftwareConsortium/itkwidgets/blob/v0.32.0/examples/ImageJImgLib2.ipynb)."
   ]
  },
  {
   "cell_type": "code",
   "execution_count": 1,
   "metadata": {},
   "outputs": [
    {
     "data": {
      "text/plain": [
       "'2.1.0/1.53c'"
      ]
     },
     "execution_count": 1,
     "metadata": {},
     "output_type": "execute_result"
    }
   ],
   "source": [
    "import imagej\n",
    "ij = imagej.init('net.imagej:imagej:2.1.0')\n",
    "ij.getVersion()"
   ]
  },
  {
   "cell_type": "code",
   "execution_count": 2,
   "metadata": {},
   "outputs": [],
   "source": [
    "from urllib.request import urlretrieve\n",
    "import os\n",
    "import itk\n",
    "import numpy as np\n",
    "from itkwidgets import view"
   ]
  },
  {
   "cell_type": "code",
   "execution_count": 3,
   "metadata": {},
   "outputs": [],
   "source": [
    "# Download data\n",
    "file_name = 'General_EduRes_Heart_BloodVessels_0.jpg'\n",
    "if not os.path.exists(file_name):\n",
    "    url = 'https://data.kitware.com/api/v1/file/5afe74408d777f15ebe1d701/download'\n",
    "    urlretrieve(url, file_name)"
   ]
  },
  {
   "cell_type": "code",
   "execution_count": 4,
   "metadata": {},
   "outputs": [
    {
     "data": {
      "application/vnd.jupyter.widget-view+json": {
       "model_id": "7ccbf4aba3ff4aadb57adaab29b6aa30",
       "version_major": 2,
       "version_minor": 0
      },
      "text/plain": [
       "Viewer(geometries=[], gradient_opacity=0.22, point_sets=[], rendered_image=<itk.itkImagePython.itkImageF2; pro…"
      ]
     },
     "metadata": {},
     "output_type": "display_data"
    }
   ],
   "source": [
    "image_itk = itk.imread(file_name, itk.ctype('float'))\n",
    "view(image_itk)"
   ]
  },
  {
   "cell_type": "code",
   "execution_count": 5,
   "metadata": {},
   "outputs": [
    {
     "name": "stdout",
     "output_type": "stream",
     "text": [
      "<class 'itk.itkImagePython.itkImageF2'>\n",
      "<class 'itk.itkPyBufferPython.NDArrayITKBase'>\n",
      "<java class 'net.imglib2.python.ReferenceGuardingRandomAccessibleInterval'>\n"
     ]
    }
   ],
   "source": [
    "print(type(image_itk))\n",
    "\n",
    "image_arr = itk.array_view_from_image(image_itk)\n",
    "print(type(image_arr))\n",
    "\n",
    "image_java = ij.py.to_java(image_arr)\n",
    "print(type(image_java))"
   ]
  },
  {
   "cell_type": "code",
   "execution_count": 6,
   "metadata": {},
   "outputs": [
    {
     "data": {
      "text/plain": [
       "<java object 'net.imglib2.python.ReferenceGuardingRandomAccessibleInterval'>"
      ]
     },
     "execution_count": 6,
     "metadata": {},
     "output_type": "execute_result"
    }
   ],
   "source": [
    "# Invoke the Frangi vesselness op.\n",
    "vessels = np.zeros(image_arr.shape, dtype=np.float32)\n",
    "ij.op().filter().frangiVesselness(ij.py.to_java(vessels),\n",
    "                                  image_java,\n",
    "                                  [1, 1],\n",
    "                                  20)"
   ]
  },
  {
   "cell_type": "code",
   "execution_count": 7,
   "metadata": {},
   "outputs": [
    {
     "data": {
      "application/vnd.jupyter.widget-view+json": {
       "model_id": "c7107286360e446c9cf450f861e04567",
       "version_major": 2,
       "version_minor": 0
      },
      "text/plain": [
       "Viewer(geometries=[], gradient_opacity=0.22, point_sets=[], rendered_image=<itk.itkImagePython.itkImageF2; pro…"
      ]
     },
     "metadata": {},
     "output_type": "display_data"
    }
   ],
   "source": [
    "view(vessels)"
   ]
  }
 ],
 "metadata": {
  "kernelspec": {
   "display_name": "Python 3",
   "language": "python",
   "name": "python3"
  },
  "language_info": {
   "codemirror_mode": {
    "name": "ipython",
    "version": 3
   },
   "file_extension": ".py",
   "mimetype": "text/x-python",
   "name": "python",
   "nbconvert_exporter": "python",
   "pygments_lexer": "ipython3",
   "version": "3.8.6"
  },
  "toc": {
   "base_numbering": 1,
   "nav_menu": {},
   "number_sections": true,
   "sideBar": true,
   "skip_h1_title": true,
   "title_cell": "Table of Contents",
   "title_sidebar": "Contents",
   "toc_cell": false,
   "toc_position": {
    "height": "calc(100% - 180px)",
    "left": "10px",
    "top": "150px",
    "width": "307px"
   },
   "toc_section_display": true,
   "toc_window_display": true
  }
 },
 "nbformat": 4,
 "nbformat_minor": 2
}
