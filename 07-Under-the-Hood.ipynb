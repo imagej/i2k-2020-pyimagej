{
 "cells": [
  {
   "cell_type": "markdown",
   "metadata": {},
   "source": [
    "# Under the Hood\n",
    "\n",
    "PyImageJ is built on two lower-level libraries: [`scyjava`](https://github.com/scijava/scyjava) and [`imglyb`](https://github.com/imglib/imglyb):\n",
    "\n",
    "* `scyjava` connects Python and Java. It is built on [`jpype1`](https://github.com/jpype-project/jpype) and [`jgo`](https://github.com/scijava/jgo):\n",
    "    * `jpype1` wraps Java objects and classes as Python objects and classes, respectively. 🧙\n",
    "    * `jgo` uses Maven to download Java artifacts from remote repositories on demand so that you can load them into your Python environment without installing anything manually.\n",
    "* `imglyb` connects NumPy and [ImgLib2](https://github.com/imglib/imglib2) (ImageJ2's data model), wrapping numpy arrays without zero copy overhead into ImgLib2-based objects."
   ]
  },
  {
   "cell_type": "markdown",
   "metadata": {},
   "source": [
    "Instead of using PyImageJ this time, here's a taste of the `scyjava` API, which lets you wrap whatever you want from Java into Python, and work with it."
   ]
  },
  {
   "cell_type": "code",
   "execution_count": 1,
   "metadata": {},
   "outputs": [],
   "source": [
    "from scyjava import config, jimport\n",
    "config.add_repositories({'scijava.public': 'https://maven.scijava.org/content/groups/public'})\n",
    "config.add_endpoints('net.imagej:imagej:2.1.0')\n",
    "config.add_option('-Xmx128m')"
   ]
  },
  {
   "cell_type": "code",
   "execution_count": 2,
   "metadata": {},
   "outputs": [],
   "source": [
    "ImageJ = jimport('net.imagej.ImageJ')\n",
    "ij = ImageJ()"
   ]
  },
  {
   "cell_type": "code",
   "execution_count": 3,
   "metadata": {},
   "outputs": [
    {
     "data": {
      "text/plain": [
       "',,,--+oo******oo+--,,,,,--+oo******o++--,,,,,--+oo******o++--,,,\n",
       "...,--+ooo**oo++--,....,,--+ooo**oo++-,,....,,--+ooo**oo++-,,...\n",
       " ...,--++oooo++--,... ...,--++oooo++--,... ...,--++oooo++-,,... \n",
       "   ..,--++++++--,..     ..,--++o+++--,..     .,,--++o+++--,..   \n",
       "   ..,,-++++++-,,.      ..,,-++++++-,,.      ..,--++++++-,,.    \n",
       "    .,,--++++--,,.       .,,--++++--,,.       .,,--++++--,..    \n",
       "    .,,--++++--,,.       .,,-+++++--,,.       .,,-+++++--,,.    \n",
       "   ..,--++++++--,..     ..,--++++++--,..     ..,--++++++-,,..   \n",
       "  ..,,-++oooo++-,,..   ..,,-++oooo++-,,..   ..,,-++ooo+++-,,..  \n",
       "...,,-++oooooo++-,,.....,,-++oooooo++-,,.....,,-++oooooo+--,,...\n",
       ".,,,-++oo****oo++-,,,.,,,-++oo****oo+--,,,.,,,-++oo****oo+--,,,.\n",
       ",,--++o***OO**oo++-,,,,--++o***OO**oo+--,,,,--++o***OO**oo+--,,,\n",
       "---++o**OOOOOO**o++-----++o**OOOOOO*oo++-----++o**OOOOOO*oo++---\n",
       "--++oo*OO####OO*oo++---++oo*OO####OO*oo++---++o**OO####OO*oo++--\n",
       "+++oo*OO######O**oo+++++oo*OO######O**oo+++++oo*OO######O**oo+++\n",
       "+++oo*OO######OO*oo+++++oo*OO######OO*oo+++++oo*OO######OO*oo+++\n",
       "'"
      ]
     },
     "execution_count": 3,
     "metadata": {},
     "output_type": "execute_result"
    }
   ],
   "source": [
    "formula = \"10 * (Math.cos(0.3*p[0]) + Math.sin(0.3*p[1]))\"\n",
    "ArrayImgs = jimport('net.imglib2.img.array.ArrayImgs')\n",
    "blank = ArrayImgs.floats(64, 16)\n",
    "sinusoid = ij.op().image().equation(blank, formula)\n",
    "ij.op().image().ascii(sinusoid)"
   ]
  }
 ],
 "metadata": {
  "kernelspec": {
   "display_name": "Python 3",
   "language": "python",
   "name": "python3"
  },
  "language_info": {
   "codemirror_mode": {
    "name": "ipython",
    "version": 3
   },
   "file_extension": ".py",
   "mimetype": "text/x-python",
   "name": "python",
   "nbconvert_exporter": "python",
   "pygments_lexer": "ipython3",
   "version": "3.8.6"
  },
  "toc": {
   "base_numbering": 1,
   "nav_menu": {},
   "number_sections": true,
   "sideBar": true,
   "skip_h1_title": true,
   "title_cell": "Table of Contents",
   "title_sidebar": "Contents",
   "toc_cell": false,
   "toc_position": {
    "height": "calc(100% - 180px)",
    "left": "10px",
    "top": "150px",
    "width": "307px"
   },
   "toc_section_display": true,
   "toc_window_display": true
  }
 },
 "nbformat": 4,
 "nbformat_minor": 2
}
