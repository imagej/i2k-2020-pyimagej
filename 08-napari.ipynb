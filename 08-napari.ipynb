{
 "cells": [
  {
   "cell_type": "markdown",
   "metadata": {},
   "source": [
    "# PyImageJ + napari"
   ]
  },
  {
   "cell_type": "markdown",
   "metadata": {},
   "source": [
    "## Initialize Napari"
   ]
  },
  {
   "cell_type": "code",
   "execution_count": 1,
   "metadata": {},
   "outputs": [],
   "source": [
    "%gui qt5\n",
    "# This Magics command needs to be run in a cell before\n",
    "# any of the napari objects are instantiated to ensure\n",
    "# it has time to finish executing before they are called.\n",
    "\n",
    "import napari"
   ]
  },
  {
   "cell_type": "markdown",
   "metadata": {},
   "source": [
    "## Initialize ImageJ"
   ]
  },
  {
   "cell_type": "code",
   "execution_count": 2,
   "metadata": {},
   "outputs": [],
   "source": [
    "import imagej\n",
    "ij = imagej.init()"
   ]
  },
  {
   "cell_type": "markdown",
   "metadata": {},
   "source": [
    "## Open and segment an image in ImageJ"
   ]
  },
  {
   "cell_type": "code",
   "execution_count": 3,
   "metadata": {},
   "outputs": [
    {
     "name": "stderr",
     "output_type": "stream",
     "text": [
      "[java.lang.Enum.toString] [INFO] Populating metadata\n"
     ]
    }
   ],
   "source": [
    "url_colony = 'https://imagej.net/images/Cell_Colony.jpg'\n",
    "\n",
    "# Load the image\n",
    "cell_colony = ij.io().open(url_colony)\n",
    "\n",
    "# TODO: auto-threshold and create mask\n",
    "\n",
    "# TODO label the segmentation?\n",
    "# Can just do this in skimage - see https://napari.org/tutorials/fundamentals/labels"
   ]
  },
  {
   "cell_type": "markdown",
   "metadata": {},
   "source": [
    "## Display the segmented image with Napari"
   ]
  },
  {
   "cell_type": "code",
   "execution_count": 4,
   "metadata": {},
   "outputs": [
    {
     "name": "stderr",
     "output_type": "stream",
     "text": [
      "ERROR:root:Unhandled exception:\n",
      "Traceback (most recent call last):\n",
      "  File \"/home/curtis/miniconda3/envs/i2k-2020-pyimagej/lib/python3.8/site-packages/napari/_qt/event_loop.py\", line 79, in gui_qt\n",
      "    yield app\n",
      "  File \"<ipython-input-4-ffbeecfa6644>\", line 8, in <module>\n",
      "    viewer.add_labels(label_image, name='segmentation')\n",
      "NameError: name 'label_image' is not defined\n",
      "\n"
     ]
    }
   ],
   "source": [
    "# Convert the image to numpy\n",
    "numpy_colony = ij.py.from_java(cell_colony)\n",
    "\n",
    "with napari.gui_qt():\n",
    "    # create the viewer and add the coins image\n",
    "    viewer = napari.view_image(numpy_colony, name='colony')\n",
    "    # add the labels\n",
    "    viewer.add_labels(label_image, name='segmentation')"
   ]
  }
 ],
 "metadata": {
  "kernelspec": {
   "display_name": "Python 3",
   "language": "python",
   "name": "python3"
  },
  "language_info": {
   "codemirror_mode": {
    "name": "ipython",
    "version": 3
   },
   "file_extension": ".py",
   "mimetype": "text/x-python",
   "name": "python",
   "nbconvert_exporter": "python",
   "pygments_lexer": "ipython3",
   "version": "3.8.6"
  },
  "toc": {
   "base_numbering": 1,
   "nav_menu": {},
   "number_sections": true,
   "sideBar": true,
   "skip_h1_title": true,
   "title_cell": "Table of Contents",
   "title_sidebar": "Contents",
   "toc_cell": false,
   "toc_position": {
    "height": "calc(100% - 180px)",
    "left": "10px",
    "top": "150px",
    "width": "307px"
   },
   "toc_section_display": true,
   "toc_window_display": true
  }
 },
 "nbformat": 4,
 "nbformat_minor": 4
}
