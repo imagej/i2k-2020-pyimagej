{
 "cells": [
  {
   "cell_type": "markdown",
   "metadata": {},
   "source": [
    "# PyImageJ + napari"
   ]
  },
  {
   "cell_type": "markdown",
   "metadata": {},
   "source": [
    "## Initialize napari"
   ]
  },
  {
   "cell_type": "code",
   "execution_count": 1,
   "metadata": {},
   "outputs": [],
   "source": [
    "%gui qt5\n",
    "# This Magics command needs to be run in a cell before\n",
    "# any of the napari objects are instantiated to ensure\n",
    "# it has time to finish executing before they are called.\n",
    "import napari"
   ]
  },
  {
   "cell_type": "markdown",
   "metadata": {},
   "source": [
    "## Initialize ImageJ"
   ]
  },
  {
   "cell_type": "code",
   "execution_count": 2,
   "metadata": {},
   "outputs": [],
   "source": [
    "import imagej\n",
    "ij = imagej.init('sc.fiji:fiji') # Fiji includes Bio-Formats."
   ]
  },
  {
   "cell_type": "markdown",
   "metadata": {},
   "source": [
    "## Open an image with ImageJ"
   ]
  },
  {
   "cell_type": "code",
   "execution_count": 3,
   "metadata": {},
   "outputs": [
    {
     "name": "stderr",
     "output_type": "stream",
     "text": [
      "[java.lang.Enum.toString] [INFO] Populating metadata\n"
     ]
    }
   ],
   "source": [
    "url_colony = 'https://imagej.net/images/Cell_Colony.jpg'\n",
    "\n",
    "# Load the image\n",
    "cell_colony = ij.io().open(url_colony)"
   ]
  },
  {
   "cell_type": "markdown",
   "metadata": {},
   "source": [
    "## Display single images"
   ]
  },
  {
   "cell_type": "code",
   "execution_count": 4,
   "metadata": {},
   "outputs": [],
   "source": [
    "# Convert the image to numpy\n",
    "numpy_colony = ij.py.from_java(cell_colony)\n",
    "\n",
    "#with napari.gui_qt():\n",
    "viewer = napari.view_image(numpy_colony, name='colony')"
   ]
  },
  {
   "cell_type": "markdown",
   "metadata": {},
   "source": [
    "## Displaying image stacks"
   ]
  },
  {
   "cell_type": "markdown",
   "metadata": {},
   "source": [
    "__TRY IT!__\n",
    "\n",
    "Download the dub dataset from the [SCIFIO sample images](https://scif.io/images) repository. Or, if you are bandwidth or memory challenged, grab the much smaller downsampled sdub dataset instead."
   ]
  },
  {
   "cell_type": "code",
   "execution_count": 5,
   "metadata": {},
   "outputs": [],
   "source": [
    "dub_folder = '/home/curtis/data/dub' # TODO: Replace this with yours!\n",
    "dub_count = 85 # TODO: If using sdub, change this to 12."
   ]
  },
  {
   "cell_type": "code",
   "execution_count": 6,
   "metadata": {},
   "outputs": [
    {
     "data": {
      "text/plain": [
       "<Image layer 'colony' at 0x7f2e2ecbe220>"
      ]
     },
     "execution_count": 6,
     "metadata": {},
     "output_type": "execute_result"
    }
   ],
   "source": [
    "# clear the previous image\n",
    "viewer.layers.pop(0)"
   ]
  },
  {
   "cell_type": "code",
   "execution_count": 7,
   "metadata": {},
   "outputs": [
    {
     "name": "stdout",
     "output_type": "stream",
     "text": [
      "--> Reading /home/curtis/data/dub/dub01.pic\n"
     ]
    },
    {
     "name": "stderr",
     "output_type": "stream",
     "text": [
      "[java.lang.Enum.toString] 18:32:40.829 [main] INFO loci.formats.ImageReader - BioRadReader initializing /home/curtis/data/dub/dub01.pic\n",
      "[java.lang.Enum.toString] 18:32:40.831 [main] INFO loci.formats.FormatHandler - Reading image dimensions\n",
      "[java.lang.Enum.toString] 18:32:40.831 [main] INFO loci.formats.FormatHandler - Reading notes\n",
      "[java.lang.Enum.toString] 18:32:40.835 [main] INFO loci.formats.FormatHandler - Populating metadata\n",
      "[java.lang.Enum.toString] 18:32:40.836 [main] INFO loci.formats.FormatHandler - Reading lookup tables\n"
     ]
    },
    {
     "name": "stdout",
     "output_type": "stream",
     "text": [
      "--> Reading /home/curtis/data/dub/dub02.pic\n"
     ]
    },
    {
     "name": "stderr",
     "output_type": "stream",
     "text": [
      "[java.lang.Enum.toString] 18:32:41.539 [main] INFO loci.formats.ImageReader - BioRadReader initializing /home/curtis/data/dub/dub02.pic\n",
      "[java.lang.Enum.toString] 18:32:41.604 [main] INFO loci.formats.FormatHandler - Reading image dimensions\n",
      "[java.lang.Enum.toString] 18:32:41.604 [main] INFO loci.formats.FormatHandler - Reading notes\n",
      "[java.lang.Enum.toString] 18:32:41.607 [main] INFO loci.formats.FormatHandler - Populating metadata\n",
      "[java.lang.Enum.toString] 18:32:41.671 [main] INFO loci.formats.FormatHandler - Reading lookup tables\n"
     ]
    },
    {
     "name": "stdout",
     "output_type": "stream",
     "text": [
      "--> Reading /home/curtis/data/dub/dub03.pic\n"
     ]
    },
    {
     "name": "stderr",
     "output_type": "stream",
     "text": [
      "[java.lang.Enum.toString] 18:32:41.914 [main] INFO loci.formats.ImageReader - BioRadReader initializing /home/curtis/data/dub/dub03.pic\n",
      "[java.lang.Enum.toString] 18:32:41.995 [main] INFO loci.formats.FormatHandler - Reading image dimensions\n",
      "[java.lang.Enum.toString] 18:32:41.995 [main] INFO loci.formats.FormatHandler - Reading notes\n",
      "[java.lang.Enum.toString] 18:32:41.996 [main] INFO loci.formats.FormatHandler - Populating metadata\n",
      "[java.lang.Enum.toString] 18:32:41.996 [main] INFO loci.formats.FormatHandler - Reading lookup tables\n"
     ]
    },
    {
     "name": "stdout",
     "output_type": "stream",
     "text": [
      "--> Reading /home/curtis/data/dub/dub04.pic\n"
     ]
    },
    {
     "name": "stderr",
     "output_type": "stream",
     "text": [
      "[java.lang.Enum.toString] 18:32:42.236 [main] INFO loci.formats.ImageReader - BioRadReader initializing /home/curtis/data/dub/dub04.pic\n",
      "[java.lang.Enum.toString] 18:32:42.324 [main] INFO loci.formats.FormatHandler - Reading image dimensions\n",
      "[java.lang.Enum.toString] 18:32:42.324 [main] INFO loci.formats.FormatHandler - Reading notes\n",
      "[java.lang.Enum.toString] 18:32:42.325 [main] INFO loci.formats.FormatHandler - Populating metadata\n",
      "[java.lang.Enum.toString] 18:32:42.325 [main] INFO loci.formats.FormatHandler - Reading lookup tables\n",
      "[java.lang.Enum.toString] 18:32:42.474 [main] INFO loci.formats.ImageReader - BioRadReader initializing /home/curtis/data/dub/dub05.pic\n",
      "[java.lang.Enum.toString] 18:32:42.475 [main] INFO loci.formats.FormatHandler - Reading image dimensions\n",
      "[java.lang.Enum.toString] 18:32:42.476 [main] INFO loci.formats.FormatHandler - Reading notes\n",
      "[java.lang.Enum.toString] 18:32:42.477 [main] INFO loci.formats.FormatHandler - Populating metadata\n",
      "[java.lang.Enum.toString] 18:32:42.477 [main] INFO loci.formats.FormatHandler - Reading lookup tables\n"
     ]
    },
    {
     "name": "stdout",
     "output_type": "stream",
     "text": [
      "--> Reading /home/curtis/data/dub/dub05.pic\n"
     ]
    },
    {
     "name": "stderr",
     "output_type": "stream",
     "text": [
      "[java.lang.Enum.toString] 18:32:42.717 [main] INFO loci.formats.ImageReader - BioRadReader initializing /home/curtis/data/dub/dub06.pic\n",
      "[java.lang.Enum.toString] 18:32:42.717 [main] INFO loci.formats.FormatHandler - Reading image dimensions\n",
      "[java.lang.Enum.toString] 18:32:42.718 [main] INFO loci.formats.FormatHandler - Reading notes\n",
      "[java.lang.Enum.toString] 18:32:42.718 [main] INFO loci.formats.FormatHandler - Populating metadata\n",
      "[java.lang.Enum.toString] 18:32:42.718 [main] INFO loci.formats.FormatHandler - Reading lookup tables\n"
     ]
    },
    {
     "name": "stdout",
     "output_type": "stream",
     "text": [
      "--> Reading /home/curtis/data/dub/dub06.pic\n"
     ]
    },
    {
     "name": "stderr",
     "output_type": "stream",
     "text": [
      "[java.lang.Enum.toString] 18:32:42.995 [main] INFO loci.formats.ImageReader - BioRadReader initializing /home/curtis/data/dub/dub07.pic\n",
      "[java.lang.Enum.toString] 18:32:43.040 [main] INFO loci.formats.FormatHandler - Reading image dimensions\n",
      "[java.lang.Enum.toString] 18:32:43.040 [main] INFO loci.formats.FormatHandler - Reading notes\n",
      "[java.lang.Enum.toString] 18:32:43.040 [main] INFO loci.formats.FormatHandler - Populating metadata\n",
      "[java.lang.Enum.toString] 18:32:43.041 [main] INFO loci.formats.FormatHandler - Reading lookup tables\n"
     ]
    },
    {
     "name": "stdout",
     "output_type": "stream",
     "text": [
      "--> Reading /home/curtis/data/dub/dub07.pic\n"
     ]
    },
    {
     "name": "stderr",
     "output_type": "stream",
     "text": [
      "[java.lang.Enum.toString] 18:32:43.177 [main] INFO loci.formats.ImageReader - BioRadReader initializing /home/curtis/data/dub/dub08.pic\n",
      "[java.lang.Enum.toString] 18:32:43.178 [main] INFO loci.formats.FormatHandler - Reading image dimensions\n",
      "[java.lang.Enum.toString] 18:32:43.179 [main] INFO loci.formats.FormatHandler - Reading notes\n",
      "[java.lang.Enum.toString] 18:32:43.179 [main] INFO loci.formats.FormatHandler - Populating metadata\n",
      "[java.lang.Enum.toString] 18:32:43.179 [main] INFO loci.formats.FormatHandler - Reading lookup tables\n"
     ]
    },
    {
     "name": "stdout",
     "output_type": "stream",
     "text": [
      "--> Reading /home/curtis/data/dub/dub08.pic\n",
      "--> Reading /home/curtis/data/dub/dub09.pic\n"
     ]
    },
    {
     "name": "stderr",
     "output_type": "stream",
     "text": [
      "[java.lang.Enum.toString] 18:32:43.327 [main] INFO loci.formats.ImageReader - BioRadReader initializing /home/curtis/data/dub/dub09.pic\n",
      "[java.lang.Enum.toString] 18:32:43.329 [main] INFO loci.formats.FormatHandler - Reading image dimensions\n",
      "[java.lang.Enum.toString] 18:32:43.329 [main] INFO loci.formats.FormatHandler - Reading notes\n",
      "[java.lang.Enum.toString] 18:32:43.330 [main] INFO loci.formats.FormatHandler - Populating metadata\n",
      "[java.lang.Enum.toString] 18:32:43.330 [main] INFO loci.formats.FormatHandler - Reading lookup tables\n"
     ]
    },
    {
     "name": "stdout",
     "output_type": "stream",
     "text": [
      "--> Reading /home/curtis/data/dub/dub10.pic\n"
     ]
    },
    {
     "name": "stderr",
     "output_type": "stream",
     "text": [
      "[java.lang.Enum.toString] 18:32:43.570 [main] INFO loci.formats.ImageReader - BioRadReader initializing /home/curtis/data/dub/dub10.pic\n",
      "[java.lang.Enum.toString] 18:32:43.648 [main] INFO loci.formats.FormatHandler - Reading image dimensions\n",
      "[java.lang.Enum.toString] 18:32:43.648 [main] INFO loci.formats.FormatHandler - Reading notes\n",
      "[java.lang.Enum.toString] 18:32:43.649 [main] INFO loci.formats.FormatHandler - Populating metadata\n",
      "[java.lang.Enum.toString] 18:32:43.649 [main] INFO loci.formats.FormatHandler - Reading lookup tables\n",
      "[java.lang.Enum.toString] 18:32:43.793 [main] INFO loci.formats.ImageReader - BioRadReader initializing /home/curtis/data/dub/dub11.pic\n",
      "[java.lang.Enum.toString] 18:32:43.794 [main] INFO loci.formats.FormatHandler - Reading image dimensions\n",
      "[java.lang.Enum.toString] 18:32:43.794 [main] INFO loci.formats.FormatHandler - Reading notes\n",
      "[java.lang.Enum.toString] 18:32:43.795 [main] INFO loci.formats.FormatHandler - Populating metadata\n",
      "[java.lang.Enum.toString] 18:32:43.795 [main] INFO loci.formats.FormatHandler - Reading lookup tables\n"
     ]
    },
    {
     "name": "stdout",
     "output_type": "stream",
     "text": [
      "--> Reading /home/curtis/data/dub/dub11.pic\n",
      "--> Reading /home/curtis/data/dub/dub12.pic\n"
     ]
    },
    {
     "name": "stderr",
     "output_type": "stream",
     "text": [
      "[java.lang.Enum.toString] 18:32:43.935 [main] INFO loci.formats.ImageReader - BioRadReader initializing /home/curtis/data/dub/dub12.pic\n",
      "[java.lang.Enum.toString] 18:32:43.936 [main] INFO loci.formats.FormatHandler - Reading image dimensions\n",
      "[java.lang.Enum.toString] 18:32:43.936 [main] INFO loci.formats.FormatHandler - Reading notes\n",
      "[java.lang.Enum.toString] 18:32:43.937 [main] INFO loci.formats.FormatHandler - Populating metadata\n",
      "[java.lang.Enum.toString] 18:32:43.937 [main] INFO loci.formats.FormatHandler - Reading lookup tables\n"
     ]
    },
    {
     "name": "stdout",
     "output_type": "stream",
     "text": [
      "--> Reading /home/curtis/data/dub/dub13.pic\n"
     ]
    },
    {
     "name": "stderr",
     "output_type": "stream",
     "text": [
      "[java.lang.Enum.toString] 18:32:44.074 [main] INFO loci.formats.ImageReader - BioRadReader initializing /home/curtis/data/dub/dub13.pic\n",
      "[java.lang.Enum.toString] 18:32:44.075 [main] INFO loci.formats.FormatHandler - Reading image dimensions\n",
      "[java.lang.Enum.toString] 18:32:44.075 [main] INFO loci.formats.FormatHandler - Reading notes\n",
      "[java.lang.Enum.toString] 18:32:44.076 [main] INFO loci.formats.FormatHandler - Populating metadata\n",
      "[java.lang.Enum.toString] 18:32:44.076 [main] INFO loci.formats.FormatHandler - Reading lookup tables\n"
     ]
    },
    {
     "name": "stdout",
     "output_type": "stream",
     "text": [
      "--> Reading /home/curtis/data/dub/dub14.pic\n"
     ]
    },
    {
     "name": "stderr",
     "output_type": "stream",
     "text": [
      "[java.lang.Enum.toString] 18:32:44.304 [main] INFO loci.formats.ImageReader - BioRadReader initializing /home/curtis/data/dub/dub14.pic\n",
      "[java.lang.Enum.toString] 18:32:44.305 [main] INFO loci.formats.FormatHandler - Reading image dimensions\n",
      "[java.lang.Enum.toString] 18:32:44.306 [main] INFO loci.formats.FormatHandler - Reading notes\n",
      "[java.lang.Enum.toString] 18:32:44.306 [main] INFO loci.formats.FormatHandler - Populating metadata\n",
      "[java.lang.Enum.toString] 18:32:44.306 [main] INFO loci.formats.FormatHandler - Reading lookup tables\n"
     ]
    },
    {
     "name": "stdout",
     "output_type": "stream",
     "text": [
      "--> Reading /home/curtis/data/dub/dub15.pic\n",
      "--> Reading /home/curtis/data/dub/dub16.pic\n"
     ]
    },
    {
     "name": "stderr",
     "output_type": "stream",
     "text": [
      "[java.lang.Enum.toString] 18:32:44.527 [main] INFO loci.formats.ImageReader - BioRadReader initializing /home/curtis/data/dub/dub15.pic\n",
      "[java.lang.Enum.toString] 18:32:44.528 [main] INFO loci.formats.FormatHandler - Reading image dimensions\n",
      "[java.lang.Enum.toString] 18:32:44.528 [main] INFO loci.formats.FormatHandler - Reading notes\n",
      "[java.lang.Enum.toString] 18:32:44.528 [main] INFO loci.formats.FormatHandler - Populating metadata\n",
      "[java.lang.Enum.toString] 18:32:44.528 [main] INFO loci.formats.FormatHandler - Reading lookup tables\n",
      "[java.lang.Enum.toString] 18:32:44.664 [main] INFO loci.formats.ImageReader - BioRadReader initializing /home/curtis/data/dub/dub16.pic\n",
      "[java.lang.Enum.toString] 18:32:44.665 [main] INFO loci.formats.FormatHandler - Reading image dimensions\n",
      "[java.lang.Enum.toString] 18:32:44.665 [main] INFO loci.formats.FormatHandler - Reading notes\n",
      "[java.lang.Enum.toString] 18:32:44.665 [main] INFO loci.formats.FormatHandler - Populating metadata\n",
      "[java.lang.Enum.toString] 18:32:44.665 [main] INFO loci.formats.FormatHandler - Reading lookup tables\n"
     ]
    },
    {
     "name": "stdout",
     "output_type": "stream",
     "text": [
      "--> Reading /home/curtis/data/dub/dub17.pic\n",
      "--> Reading /home/curtis/data/dub/dub18.pic\n"
     ]
    },
    {
     "name": "stderr",
     "output_type": "stream",
     "text": [
      "[java.lang.Enum.toString] 18:32:44.804 [main] INFO loci.formats.ImageReader - BioRadReader initializing /home/curtis/data/dub/dub17.pic\n",
      "[java.lang.Enum.toString] 18:32:44.805 [main] INFO loci.formats.FormatHandler - Reading image dimensions\n",
      "[java.lang.Enum.toString] 18:32:44.805 [main] INFO loci.formats.FormatHandler - Reading notes\n",
      "[java.lang.Enum.toString] 18:32:44.806 [main] INFO loci.formats.FormatHandler - Populating metadata\n",
      "[java.lang.Enum.toString] 18:32:44.806 [main] INFO loci.formats.FormatHandler - Reading lookup tables\n",
      "[java.lang.Enum.toString] 18:32:44.938 [main] INFO loci.formats.ImageReader - BioRadReader initializing /home/curtis/data/dub/dub18.pic\n",
      "[java.lang.Enum.toString] 18:32:44.948 [main] INFO loci.formats.FormatHandler - Reading image dimensions\n",
      "[java.lang.Enum.toString] 18:32:45.022 [main] INFO loci.formats.FormatHandler - Reading notes\n",
      "[java.lang.Enum.toString] 18:32:45.023 [main] INFO loci.formats.FormatHandler - Populating metadata\n",
      "[java.lang.Enum.toString] 18:32:45.023 [main] INFO loci.formats.FormatHandler - Reading lookup tables\n"
     ]
    },
    {
     "name": "stdout",
     "output_type": "stream",
     "text": [
      "--> Reading /home/curtis/data/dub/dub19.pic\n",
      "--> Reading /home/curtis/data/dub/dub20.pic\n"
     ]
    },
    {
     "name": "stderr",
     "output_type": "stream",
     "text": [
      "[java.lang.Enum.toString] 18:32:45.226 [main] INFO loci.formats.ImageReader - BioRadReader initializing /home/curtis/data/dub/dub19.pic\n",
      "[java.lang.Enum.toString] 18:32:45.227 [main] INFO loci.formats.FormatHandler - Reading image dimensions\n",
      "[java.lang.Enum.toString] 18:32:45.227 [main] INFO loci.formats.FormatHandler - Reading notes\n",
      "[java.lang.Enum.toString] 18:32:45.227 [main] INFO loci.formats.FormatHandler - Populating metadata\n",
      "[java.lang.Enum.toString] 18:32:45.227 [main] INFO loci.formats.FormatHandler - Reading lookup tables\n",
      "[java.lang.Enum.toString] 18:32:45.369 [main] INFO loci.formats.ImageReader - BioRadReader initializing /home/curtis/data/dub/dub20.pic\n",
      "[java.lang.Enum.toString] 18:32:45.370 [main] INFO loci.formats.FormatHandler - Reading image dimensions\n",
      "[java.lang.Enum.toString] 18:32:45.370 [main] INFO loci.formats.FormatHandler - Reading notes\n",
      "[java.lang.Enum.toString] 18:32:45.371 [main] INFO loci.formats.FormatHandler - Populating metadata\n",
      "[java.lang.Enum.toString] 18:32:45.371 [main] INFO loci.formats.FormatHandler - Reading lookup tables\n"
     ]
    },
    {
     "name": "stdout",
     "output_type": "stream",
     "text": [
      "--> Reading /home/curtis/data/dub/dub21.pic\n"
     ]
    },
    {
     "name": "stderr",
     "output_type": "stream",
     "text": [
      "[java.lang.Enum.toString] 18:32:45.517 [main] INFO loci.formats.ImageReader - BioRadReader initializing /home/curtis/data/dub/dub21.pic\n",
      "[java.lang.Enum.toString] 18:32:45.587 [main] INFO loci.formats.FormatHandler - Reading image dimensions\n",
      "[java.lang.Enum.toString] 18:32:45.587 [main] INFO loci.formats.FormatHandler - Reading notes\n",
      "[java.lang.Enum.toString] 18:32:45.588 [main] INFO loci.formats.FormatHandler - Populating metadata\n",
      "[java.lang.Enum.toString] 18:32:45.588 [main] INFO loci.formats.FormatHandler - Reading lookup tables\n",
      "[java.lang.Enum.toString] 18:32:45.735 [main] INFO loci.formats.ImageReader - BioRadReader initializing /home/curtis/data/dub/dub22.pic\n",
      "[java.lang.Enum.toString] 18:32:45.736 [main] INFO loci.formats.FormatHandler - Reading image dimensions\n",
      "[java.lang.Enum.toString] 18:32:45.736 [main] INFO loci.formats.FormatHandler - Reading notes\n",
      "[java.lang.Enum.toString] 18:32:45.737 [main] INFO loci.formats.FormatHandler - Populating metadata\n",
      "[java.lang.Enum.toString] 18:32:45.737 [main] INFO loci.formats.FormatHandler - Reading lookup tables\n"
     ]
    },
    {
     "name": "stdout",
     "output_type": "stream",
     "text": [
      "--> Reading /home/curtis/data/dub/dub22.pic\n",
      "--> Reading /home/curtis/data/dub/dub23.pic\n"
     ]
    },
    {
     "name": "stderr",
     "output_type": "stream",
     "text": [
      "[java.lang.Enum.toString] 18:32:45.884 [main] INFO loci.formats.ImageReader - BioRadReader initializing /home/curtis/data/dub/dub23.pic\n",
      "[java.lang.Enum.toString] 18:32:45.885 [main] INFO loci.formats.FormatHandler - Reading image dimensions\n",
      "[java.lang.Enum.toString] 18:32:45.885 [main] INFO loci.formats.FormatHandler - Reading notes\n",
      "[java.lang.Enum.toString] 18:32:45.886 [main] INFO loci.formats.FormatHandler - Populating metadata\n",
      "[java.lang.Enum.toString] 18:32:45.886 [main] INFO loci.formats.FormatHandler - Reading lookup tables\n"
     ]
    },
    {
     "name": "stdout",
     "output_type": "stream",
     "text": [
      "--> Reading /home/curtis/data/dub/dub24.pic\n",
      "--> Reading /home/curtis/data/dub/dub25.pic\n"
     ]
    },
    {
     "name": "stderr",
     "output_type": "stream",
     "text": [
      "[java.lang.Enum.toString] 18:32:46.038 [main] INFO loci.formats.ImageReader - BioRadReader initializing /home/curtis/data/dub/dub24.pic\n",
      "[java.lang.Enum.toString] 18:32:46.040 [main] INFO loci.formats.FormatHandler - Reading image dimensions\n",
      "[java.lang.Enum.toString] 18:32:46.040 [main] INFO loci.formats.FormatHandler - Reading notes\n",
      "[java.lang.Enum.toString] 18:32:46.041 [main] INFO loci.formats.FormatHandler - Populating metadata\n",
      "[java.lang.Enum.toString] 18:32:46.041 [main] INFO loci.formats.FormatHandler - Reading lookup tables\n",
      "[java.lang.Enum.toString] 18:32:46.181 [main] INFO loci.formats.ImageReader - BioRadReader initializing /home/curtis/data/dub/dub25.pic\n",
      "[java.lang.Enum.toString] 18:32:46.182 [main] INFO loci.formats.FormatHandler - Reading image dimensions\n",
      "[java.lang.Enum.toString] 18:32:46.182 [main] INFO loci.formats.FormatHandler - Reading notes\n",
      "[java.lang.Enum.toString] 18:32:46.183 [main] INFO loci.formats.FormatHandler - Populating metadata\n",
      "[java.lang.Enum.toString] 18:32:46.183 [main] INFO loci.formats.FormatHandler - Reading lookup tables\n",
      "[java.lang.Enum.toString] 18:32:46.447 [main] INFO loci.formats.ImageReader - BioRadReader initializing /home/curtis/data/dub/dub26.pic\n",
      "[java.lang.Enum.toString] 18:32:46.448 [main] INFO loci.formats.FormatHandler - Reading image dimensions\n",
      "[java.lang.Enum.toString] 18:32:46.448 [main] INFO loci.formats.FormatHandler - Reading notes\n",
      "[java.lang.Enum.toString] 18:32:46.449 [main] INFO loci.formats.FormatHandler - Populating metadata\n",
      "[java.lang.Enum.toString] 18:32:46.449 [main] INFO loci.formats.FormatHandler - Reading lookup tables\n"
     ]
    },
    {
     "name": "stdout",
     "output_type": "stream",
     "text": [
      "--> Reading /home/curtis/data/dub/dub26.pic\n",
      "--> Reading /home/curtis/data/dub/dub27.pic\n"
     ]
    },
    {
     "name": "stderr",
     "output_type": "stream",
     "text": [
      "[java.lang.Enum.toString] 18:32:46.587 [main] INFO loci.formats.ImageReader - BioRadReader initializing /home/curtis/data/dub/dub27.pic\n",
      "[java.lang.Enum.toString] 18:32:46.588 [main] INFO loci.formats.FormatHandler - Reading image dimensions\n",
      "[java.lang.Enum.toString] 18:32:46.588 [main] INFO loci.formats.FormatHandler - Reading notes\n",
      "[java.lang.Enum.toString] 18:32:46.588 [main] INFO loci.formats.FormatHandler - Populating metadata\n",
      "[java.lang.Enum.toString] 18:32:46.588 [main] INFO loci.formats.FormatHandler - Reading lookup tables\n"
     ]
    },
    {
     "name": "stdout",
     "output_type": "stream",
     "text": [
      "--> Reading /home/curtis/data/dub/dub28.pic\n"
     ]
    },
    {
     "name": "stderr",
     "output_type": "stream",
     "text": [
      "[java.lang.Enum.toString] 18:32:46.725 [main] INFO loci.formats.ImageReader - BioRadReader initializing /home/curtis/data/dub/dub28.pic\n",
      "[java.lang.Enum.toString] 18:32:46.805 [main] INFO loci.formats.FormatHandler - Reading image dimensions\n",
      "[java.lang.Enum.toString] 18:32:46.805 [main] INFO loci.formats.FormatHandler - Reading notes\n",
      "[java.lang.Enum.toString] 18:32:46.806 [main] INFO loci.formats.FormatHandler - Populating metadata\n",
      "[java.lang.Enum.toString] 18:32:46.806 [main] INFO loci.formats.FormatHandler - Reading lookup tables\n",
      "[java.lang.Enum.toString] 18:32:46.933 [main] INFO loci.formats.ImageReader - BioRadReader initializing /home/curtis/data/dub/dub29.pic\n",
      "[java.lang.Enum.toString] 18:32:46.934 [main] INFO loci.formats.FormatHandler - Reading image dimensions\n",
      "[java.lang.Enum.toString] 18:32:46.934 [main] INFO loci.formats.FormatHandler - Reading notes\n",
      "[java.lang.Enum.toString] 18:32:46.935 [main] INFO loci.formats.FormatHandler - Populating metadata\n",
      "[java.lang.Enum.toString] 18:32:46.935 [main] INFO loci.formats.FormatHandler - Reading lookup tables\n"
     ]
    },
    {
     "name": "stdout",
     "output_type": "stream",
     "text": [
      "--> Reading /home/curtis/data/dub/dub29.pic\n",
      "--> Reading /home/curtis/data/dub/dub30.pic\n"
     ]
    },
    {
     "name": "stderr",
     "output_type": "stream",
     "text": [
      "[java.lang.Enum.toString] 18:32:47.062 [main] INFO loci.formats.ImageReader - BioRadReader initializing /home/curtis/data/dub/dub30.pic\n",
      "[java.lang.Enum.toString] 18:32:47.063 [main] INFO loci.formats.FormatHandler - Reading image dimensions\n",
      "[java.lang.Enum.toString] 18:32:47.063 [main] INFO loci.formats.FormatHandler - Reading notes\n",
      "[java.lang.Enum.toString] 18:32:47.064 [main] INFO loci.formats.FormatHandler - Populating metadata\n",
      "[java.lang.Enum.toString] 18:32:47.064 [main] INFO loci.formats.FormatHandler - Reading lookup tables\n",
      "[java.lang.Enum.toString] 18:32:47.190 [main] INFO loci.formats.ImageReader - BioRadReader initializing /home/curtis/data/dub/dub31.pic\n",
      "[java.lang.Enum.toString] 18:32:47.191 [main] INFO loci.formats.FormatHandler - Reading image dimensions\n",
      "[java.lang.Enum.toString] 18:32:47.191 [main] INFO loci.formats.FormatHandler - Reading notes\n",
      "[java.lang.Enum.toString] 18:32:47.191 [main] INFO loci.formats.FormatHandler - Populating metadata\n",
      "[java.lang.Enum.toString] 18:32:47.191 [main] INFO loci.formats.FormatHandler - Reading lookup tables\n"
     ]
    },
    {
     "name": "stdout",
     "output_type": "stream",
     "text": [
      "--> Reading /home/curtis/data/dub/dub31.pic\n",
      "--> Reading /home/curtis/data/dub/dub32.pic\n"
     ]
    },
    {
     "name": "stderr",
     "output_type": "stream",
     "text": [
      "[java.lang.Enum.toString] 18:32:47.327 [main] INFO loci.formats.ImageReader - BioRadReader initializing /home/curtis/data/dub/dub32.pic\n",
      "[java.lang.Enum.toString] 18:32:47.328 [main] INFO loci.formats.FormatHandler - Reading image dimensions\n",
      "[java.lang.Enum.toString] 18:32:47.328 [main] INFO loci.formats.FormatHandler - Reading notes\n",
      "[java.lang.Enum.toString] 18:32:47.329 [main] INFO loci.formats.FormatHandler - Populating metadata\n",
      "[java.lang.Enum.toString] 18:32:47.329 [main] INFO loci.formats.FormatHandler - Reading lookup tables\n",
      "[java.lang.Enum.toString] 18:32:47.462 [main] INFO loci.formats.ImageReader - BioRadReader initializing /home/curtis/data/dub/dub33.pic\n",
      "[java.lang.Enum.toString] 18:32:47.463 [main] INFO loci.formats.FormatHandler - Reading image dimensions\n",
      "[java.lang.Enum.toString] 18:32:47.464 [main] INFO loci.formats.FormatHandler - Reading notes\n",
      "[java.lang.Enum.toString] 18:32:47.464 [main] INFO loci.formats.FormatHandler - Populating metadata\n",
      "[java.lang.Enum.toString] 18:32:47.464 [main] INFO loci.formats.FormatHandler - Reading lookup tables\n"
     ]
    },
    {
     "name": "stdout",
     "output_type": "stream",
     "text": [
      "--> Reading /home/curtis/data/dub/dub33.pic\n"
     ]
    },
    {
     "name": "stderr",
     "output_type": "stream",
     "text": [
      "[java.lang.Enum.toString] 18:32:47.722 [main] INFO loci.formats.ImageReader - BioRadReader initializing /home/curtis/data/dub/dub34.pic\n",
      "[java.lang.Enum.toString] 18:32:47.722 [main] INFO loci.formats.FormatHandler - Reading image dimensions\n",
      "[java.lang.Enum.toString] 18:32:47.723 [main] INFO loci.formats.FormatHandler - Reading notes\n",
      "[java.lang.Enum.toString] 18:32:47.723 [main] INFO loci.formats.FormatHandler - Populating metadata\n",
      "[java.lang.Enum.toString] 18:32:47.723 [main] INFO loci.formats.FormatHandler - Reading lookup tables\n"
     ]
    },
    {
     "name": "stdout",
     "output_type": "stream",
     "text": [
      "--> Reading /home/curtis/data/dub/dub34.pic\n",
      "--> Reading /home/curtis/data/dub/dub35.pic\n"
     ]
    },
    {
     "name": "stderr",
     "output_type": "stream",
     "text": [
      "[java.lang.Enum.toString] 18:32:47.872 [main] INFO loci.formats.ImageReader - BioRadReader initializing /home/curtis/data/dub/dub35.pic\n",
      "[java.lang.Enum.toString] 18:32:47.872 [main] INFO loci.formats.FormatHandler - Reading image dimensions\n",
      "[java.lang.Enum.toString] 18:32:47.872 [main] INFO loci.formats.FormatHandler - Reading notes\n",
      "[java.lang.Enum.toString] 18:32:47.873 [main] INFO loci.formats.FormatHandler - Populating metadata\n",
      "[java.lang.Enum.toString] 18:32:47.873 [main] INFO loci.formats.FormatHandler - Reading lookup tables\n",
      "[java.lang.Enum.toString] 18:32:48.009 [main] INFO loci.formats.ImageReader - BioRadReader initializing /home/curtis/data/dub/dub36.pic\n",
      "[java.lang.Enum.toString] 18:32:48.010 [main] INFO loci.formats.FormatHandler - Reading image dimensions\n",
      "[java.lang.Enum.toString] 18:32:48.010 [main] INFO loci.formats.FormatHandler - Reading notes\n",
      "[java.lang.Enum.toString] 18:32:48.011 [main] INFO loci.formats.FormatHandler - Populating metadata\n",
      "[java.lang.Enum.toString] 18:32:48.011 [main] INFO loci.formats.FormatHandler - Reading lookup tables\n"
     ]
    },
    {
     "name": "stdout",
     "output_type": "stream",
     "text": [
      "--> Reading /home/curtis/data/dub/dub36.pic\n",
      "--> Reading /home/curtis/data/dub/dub37.pic\n"
     ]
    },
    {
     "name": "stderr",
     "output_type": "stream",
     "text": [
      "[java.lang.Enum.toString] 18:32:48.155 [main] INFO loci.formats.ImageReader - BioRadReader initializing /home/curtis/data/dub/dub37.pic\n",
      "[java.lang.Enum.toString] 18:32:48.156 [main] INFO loci.formats.FormatHandler - Reading image dimensions\n",
      "[java.lang.Enum.toString] 18:32:48.156 [main] INFO loci.formats.FormatHandler - Reading notes\n",
      "[java.lang.Enum.toString] 18:32:48.157 [main] INFO loci.formats.FormatHandler - Populating metadata\n",
      "[java.lang.Enum.toString] 18:32:48.157 [main] INFO loci.formats.FormatHandler - Reading lookup tables\n"
     ]
    },
    {
     "name": "stdout",
     "output_type": "stream",
     "text": [
      "--> Reading /home/curtis/data/dub/dub38.pic\n",
      "--> Reading /home/curtis/data/dub/dub39.pic\n"
     ]
    },
    {
     "name": "stderr",
     "output_type": "stream",
     "text": [
      "[java.lang.Enum.toString] 18:32:48.390 [main] INFO loci.formats.ImageReader - BioRadReader initializing /home/curtis/data/dub/dub38.pic\n",
      "[java.lang.Enum.toString] 18:32:48.391 [main] INFO loci.formats.FormatHandler - Reading image dimensions\n",
      "[java.lang.Enum.toString] 18:32:48.391 [main] INFO loci.formats.FormatHandler - Reading notes\n",
      "[java.lang.Enum.toString] 18:32:48.392 [main] INFO loci.formats.FormatHandler - Populating metadata\n",
      "[java.lang.Enum.toString] 18:32:48.392 [main] INFO loci.formats.FormatHandler - Reading lookup tables\n",
      "[java.lang.Enum.toString] 18:32:48.537 [main] INFO loci.formats.ImageReader - BioRadReader initializing /home/curtis/data/dub/dub39.pic\n",
      "[java.lang.Enum.toString] 18:32:48.538 [main] INFO loci.formats.FormatHandler - Reading image dimensions\n",
      "[java.lang.Enum.toString] 18:32:48.538 [main] INFO loci.formats.FormatHandler - Reading notes\n",
      "[java.lang.Enum.toString] 18:32:48.538 [main] INFO loci.formats.FormatHandler - Populating metadata\n",
      "[java.lang.Enum.toString] 18:32:48.538 [main] INFO loci.formats.FormatHandler - Reading lookup tables\n"
     ]
    },
    {
     "name": "stdout",
     "output_type": "stream",
     "text": [
      "--> Reading /home/curtis/data/dub/dub40.pic\n",
      "--> Reading /home/curtis/data/dub/dub41.pic\n"
     ]
    },
    {
     "name": "stderr",
     "output_type": "stream",
     "text": [
      "[java.lang.Enum.toString] 18:32:48.675 [main] INFO loci.formats.ImageReader - BioRadReader initializing /home/curtis/data/dub/dub40.pic\n",
      "[java.lang.Enum.toString] 18:32:48.675 [main] INFO loci.formats.FormatHandler - Reading image dimensions\n",
      "[java.lang.Enum.toString] 18:32:48.676 [main] INFO loci.formats.FormatHandler - Reading notes\n",
      "[java.lang.Enum.toString] 18:32:48.676 [main] INFO loci.formats.FormatHandler - Populating metadata\n",
      "[java.lang.Enum.toString] 18:32:48.676 [main] INFO loci.formats.FormatHandler - Reading lookup tables\n",
      "[java.lang.Enum.toString] 18:32:48.811 [main] INFO loci.formats.ImageReader - BioRadReader initializing /home/curtis/data/dub/dub41.pic\n",
      "[java.lang.Enum.toString] 18:32:48.812 [main] INFO loci.formats.FormatHandler - Reading image dimensions\n",
      "[java.lang.Enum.toString] 18:32:48.812 [main] INFO loci.formats.FormatHandler - Reading notes\n",
      "[java.lang.Enum.toString] 18:32:48.813 [main] INFO loci.formats.FormatHandler - Populating metadata\n",
      "[java.lang.Enum.toString] 18:32:48.813 [main] INFO loci.formats.FormatHandler - Reading lookup tables\n"
     ]
    },
    {
     "name": "stdout",
     "output_type": "stream",
     "text": [
      "--> Reading /home/curtis/data/dub/dub42.pic\n",
      "--> Reading /home/curtis/data/dub/dub43.pic\n"
     ]
    },
    {
     "name": "stderr",
     "output_type": "stream",
     "text": [
      "[java.lang.Enum.toString] 18:32:48.951 [main] INFO loci.formats.ImageReader - BioRadReader initializing /home/curtis/data/dub/dub42.pic\n",
      "[java.lang.Enum.toString] 18:32:48.952 [main] INFO loci.formats.FormatHandler - Reading image dimensions\n",
      "[java.lang.Enum.toString] 18:32:48.952 [main] INFO loci.formats.FormatHandler - Reading notes\n",
      "[java.lang.Enum.toString] 18:32:48.953 [main] INFO loci.formats.FormatHandler - Populating metadata\n",
      "[java.lang.Enum.toString] 18:32:48.953 [main] INFO loci.formats.FormatHandler - Reading lookup tables\n",
      "[java.lang.Enum.toString] 18:32:49.092 [main] INFO loci.formats.ImageReader - BioRadReader initializing /home/curtis/data/dub/dub43.pic\n",
      "[java.lang.Enum.toString] 18:32:49.092 [main] INFO loci.formats.FormatHandler - Reading image dimensions\n",
      "[java.lang.Enum.toString] 18:32:49.093 [main] INFO loci.formats.FormatHandler - Reading notes\n",
      "[java.lang.Enum.toString] 18:32:49.093 [main] INFO loci.formats.FormatHandler - Populating metadata\n",
      "[java.lang.Enum.toString] 18:32:49.093 [main] INFO loci.formats.FormatHandler - Reading lookup tables\n"
     ]
    },
    {
     "name": "stdout",
     "output_type": "stream",
     "text": [
      "--> Reading /home/curtis/data/dub/dub44.pic\n"
     ]
    },
    {
     "name": "stderr",
     "output_type": "stream",
     "text": [
      "[java.lang.Enum.toString] 18:32:49.249 [main] INFO loci.formats.ImageReader - BioRadReader initializing /home/curtis/data/dub/dub44.pic\n",
      "[java.lang.Enum.toString] 18:32:49.338 [main] INFO loci.formats.FormatHandler - Reading image dimensions\n",
      "[java.lang.Enum.toString] 18:32:49.338 [main] INFO loci.formats.FormatHandler - Reading notes\n",
      "[java.lang.Enum.toString] 18:32:49.338 [main] INFO loci.formats.FormatHandler - Populating metadata\n",
      "[java.lang.Enum.toString] 18:32:49.339 [main] INFO loci.formats.FormatHandler - Reading lookup tables\n"
     ]
    },
    {
     "name": "stdout",
     "output_type": "stream",
     "text": [
      "--> Reading /home/curtis/data/dub/dub45.pic\n",
      "--> Reading /home/curtis/data/dub/dub46.pic\n"
     ]
    },
    {
     "name": "stderr",
     "output_type": "stream",
     "text": [
      "[java.lang.Enum.toString] 18:32:49.567 [main] INFO loci.formats.ImageReader - BioRadReader initializing /home/curtis/data/dub/dub45.pic\n",
      "[java.lang.Enum.toString] 18:32:49.568 [main] INFO loci.formats.FormatHandler - Reading image dimensions\n",
      "[java.lang.Enum.toString] 18:32:49.568 [main] INFO loci.formats.FormatHandler - Reading notes\n",
      "[java.lang.Enum.toString] 18:32:49.568 [main] INFO loci.formats.FormatHandler - Populating metadata\n",
      "[java.lang.Enum.toString] 18:32:49.568 [main] INFO loci.formats.FormatHandler - Reading lookup tables\n",
      "[java.lang.Enum.toString] 18:32:49.705 [main] INFO loci.formats.ImageReader - BioRadReader initializing /home/curtis/data/dub/dub46.pic\n",
      "[java.lang.Enum.toString] 18:32:49.706 [main] INFO loci.formats.FormatHandler - Reading image dimensions\n",
      "[java.lang.Enum.toString] 18:32:49.706 [main] INFO loci.formats.FormatHandler - Reading notes\n",
      "[java.lang.Enum.toString] 18:32:49.707 [main] INFO loci.formats.FormatHandler - Populating metadata\n",
      "[java.lang.Enum.toString] 18:32:49.707 [main] INFO loci.formats.FormatHandler - Reading lookup tables\n"
     ]
    },
    {
     "name": "stdout",
     "output_type": "stream",
     "text": [
      "--> Reading /home/curtis/data/dub/dub47.pic\n",
      "--> Reading /home/curtis/data/dub/dub48.pic\n"
     ]
    },
    {
     "name": "stderr",
     "output_type": "stream",
     "text": [
      "[java.lang.Enum.toString] 18:32:49.844 [main] INFO loci.formats.ImageReader - BioRadReader initializing /home/curtis/data/dub/dub47.pic\n",
      "[java.lang.Enum.toString] 18:32:49.845 [main] INFO loci.formats.FormatHandler - Reading image dimensions\n",
      "[java.lang.Enum.toString] 18:32:49.845 [main] INFO loci.formats.FormatHandler - Reading notes\n",
      "[java.lang.Enum.toString] 18:32:49.846 [main] INFO loci.formats.FormatHandler - Populating metadata\n",
      "[java.lang.Enum.toString] 18:32:49.846 [main] INFO loci.formats.FormatHandler - Reading lookup tables\n",
      "[java.lang.Enum.toString] 18:32:50.001 [main] INFO loci.formats.ImageReader - BioRadReader initializing /home/curtis/data/dub/dub48.pic\n",
      "[java.lang.Enum.toString] 18:32:50.092 [main] INFO loci.formats.FormatHandler - Reading image dimensions\n",
      "[java.lang.Enum.toString] 18:32:50.093 [main] INFO loci.formats.FormatHandler - Reading notes\n",
      "[java.lang.Enum.toString] 18:32:50.093 [main] INFO loci.formats.FormatHandler - Populating metadata\n",
      "[java.lang.Enum.toString] 18:32:50.093 [main] INFO loci.formats.FormatHandler - Reading lookup tables\n",
      "[java.lang.Enum.toString] 18:32:50.226 [main] INFO loci.formats.ImageReader - BioRadReader initializing /home/curtis/data/dub/dub49.pic\n",
      "[java.lang.Enum.toString] 18:32:50.226 [main] INFO loci.formats.FormatHandler - Reading image dimensions\n",
      "[java.lang.Enum.toString] 18:32:50.226 [main] INFO loci.formats.FormatHandler - Reading notes\n",
      "[java.lang.Enum.toString] 18:32:50.227 [main] INFO loci.formats.FormatHandler - Populating metadata\n",
      "[java.lang.Enum.toString] 18:32:50.227 [main] INFO loci.formats.FormatHandler - Reading lookup tables\n"
     ]
    },
    {
     "name": "stdout",
     "output_type": "stream",
     "text": [
      "--> Reading /home/curtis/data/dub/dub49.pic\n",
      "--> Reading /home/curtis/data/dub/dub50.pic\n"
     ]
    },
    {
     "name": "stderr",
     "output_type": "stream",
     "text": [
      "[java.lang.Enum.toString] 18:32:50.362 [main] INFO loci.formats.ImageReader - BioRadReader initializing /home/curtis/data/dub/dub50.pic\n",
      "[java.lang.Enum.toString] 18:32:50.363 [main] INFO loci.formats.FormatHandler - Reading image dimensions\n",
      "[java.lang.Enum.toString] 18:32:50.363 [main] INFO loci.formats.FormatHandler - Reading notes\n",
      "[java.lang.Enum.toString] 18:32:50.364 [main] INFO loci.formats.FormatHandler - Populating metadata\n",
      "[java.lang.Enum.toString] 18:32:50.364 [main] INFO loci.formats.FormatHandler - Reading lookup tables\n",
      "[java.lang.Enum.toString] 18:32:50.495 [main] INFO loci.formats.ImageReader - BioRadReader initializing /home/curtis/data/dub/dub51.pic\n",
      "[java.lang.Enum.toString] 18:32:50.496 [main] INFO loci.formats.FormatHandler - Reading image dimensions\n",
      "[java.lang.Enum.toString] 18:32:50.496 [main] INFO loci.formats.FormatHandler - Reading notes\n",
      "[java.lang.Enum.toString] 18:32:50.497 [main] INFO loci.formats.FormatHandler - Populating metadata\n",
      "[java.lang.Enum.toString] 18:32:50.497 [main] INFO loci.formats.FormatHandler - Reading lookup tables\n"
     ]
    },
    {
     "name": "stdout",
     "output_type": "stream",
     "text": [
      "--> Reading /home/curtis/data/dub/dub51.pic\n",
      "--> Reading /home/curtis/data/dub/dub52.pic\n"
     ]
    },
    {
     "name": "stderr",
     "output_type": "stream",
     "text": [
      "[java.lang.Enum.toString] 18:32:50.633 [main] INFO loci.formats.ImageReader - BioRadReader initializing /home/curtis/data/dub/dub52.pic\n",
      "[java.lang.Enum.toString] 18:32:50.634 [main] INFO loci.formats.FormatHandler - Reading image dimensions\n",
      "[java.lang.Enum.toString] 18:32:50.634 [main] INFO loci.formats.FormatHandler - Reading notes\n",
      "[java.lang.Enum.toString] 18:32:50.634 [main] INFO loci.formats.FormatHandler - Populating metadata\n",
      "[java.lang.Enum.toString] 18:32:50.634 [main] INFO loci.formats.FormatHandler - Reading lookup tables\n",
      "[java.lang.Enum.toString] 18:32:50.769 [main] INFO loci.formats.ImageReader - BioRadReader initializing /home/curtis/data/dub/dub53.pic\n",
      "[java.lang.Enum.toString] 18:32:50.769 [main] INFO loci.formats.FormatHandler - Reading image dimensions\n",
      "[java.lang.Enum.toString] 18:32:50.769 [main] INFO loci.formats.FormatHandler - Reading notes\n",
      "[java.lang.Enum.toString] 18:32:50.770 [main] INFO loci.formats.FormatHandler - Populating metadata\n",
      "[java.lang.Enum.toString] 18:32:50.770 [main] INFO loci.formats.FormatHandler - Reading lookup tables\n"
     ]
    },
    {
     "name": "stdout",
     "output_type": "stream",
     "text": [
      "--> Reading /home/curtis/data/dub/dub53.pic\n",
      "--> Reading /home/curtis/data/dub/dub54.pic\n"
     ]
    },
    {
     "name": "stderr",
     "output_type": "stream",
     "text": [
      "[java.lang.Enum.toString] 18:32:50.913 [main] INFO loci.formats.ImageReader - BioRadReader initializing /home/curtis/data/dub/dub54.pic\n",
      "[java.lang.Enum.toString] 18:32:50.914 [main] INFO loci.formats.FormatHandler - Reading image dimensions\n",
      "[java.lang.Enum.toString] 18:32:50.914 [main] INFO loci.formats.FormatHandler - Reading notes\n",
      "[java.lang.Enum.toString] 18:32:50.914 [main] INFO loci.formats.FormatHandler - Populating metadata\n",
      "[java.lang.Enum.toString] 18:32:50.914 [main] INFO loci.formats.FormatHandler - Reading lookup tables\n"
     ]
    },
    {
     "name": "stdout",
     "output_type": "stream",
     "text": [
      "--> Reading /home/curtis/data/dub/dub55.pic\n",
      "--> Reading /home/curtis/data/dub/dub56.pic\n"
     ]
    },
    {
     "name": "stderr",
     "output_type": "stream",
     "text": [
      "[java.lang.Enum.toString] 18:32:51.136 [main] INFO loci.formats.ImageReader - BioRadReader initializing /home/curtis/data/dub/dub55.pic\n",
      "[java.lang.Enum.toString] 18:32:51.137 [main] INFO loci.formats.FormatHandler - Reading image dimensions\n",
      "[java.lang.Enum.toString] 18:32:51.137 [main] INFO loci.formats.FormatHandler - Reading notes\n",
      "[java.lang.Enum.toString] 18:32:51.138 [main] INFO loci.formats.FormatHandler - Populating metadata\n",
      "[java.lang.Enum.toString] 18:32:51.138 [main] INFO loci.formats.FormatHandler - Reading lookup tables\n",
      "[java.lang.Enum.toString] 18:32:51.333 [main] INFO loci.formats.ImageReader - BioRadReader initializing /home/curtis/data/dub/dub56.pic\n",
      "[java.lang.Enum.toString] 18:32:51.334 [main] INFO loci.formats.FormatHandler - Reading image dimensions\n",
      "[java.lang.Enum.toString] 18:32:51.334 [main] INFO loci.formats.FormatHandler - Reading notes\n",
      "[java.lang.Enum.toString] 18:32:51.334 [main] INFO loci.formats.FormatHandler - Populating metadata\n",
      "[java.lang.Enum.toString] 18:32:51.334 [main] INFO loci.formats.FormatHandler - Reading lookup tables\n",
      "[java.lang.Enum.toString] 18:32:51.473 [main] INFO loci.formats.ImageReader - BioRadReader initializing /home/curtis/data/dub/dub57.pic\n",
      "[java.lang.Enum.toString] 18:32:51.474 [main] INFO loci.formats.FormatHandler - Reading image dimensions\n",
      "[java.lang.Enum.toString] 18:32:51.475 [main] INFO loci.formats.FormatHandler - Reading notes\n",
      "[java.lang.Enum.toString] 18:32:51.475 [main] INFO loci.formats.FormatHandler - Populating metadata\n",
      "[java.lang.Enum.toString] 18:32:51.475 [main] INFO loci.formats.FormatHandler - Reading lookup tables\n"
     ]
    },
    {
     "name": "stdout",
     "output_type": "stream",
     "text": [
      "--> Reading /home/curtis/data/dub/dub57.pic\n",
      "--> Reading /home/curtis/data/dub/dub58.pic\n"
     ]
    },
    {
     "name": "stderr",
     "output_type": "stream",
     "text": [
      "[java.lang.Enum.toString] 18:32:51.610 [main] INFO loci.formats.ImageReader - BioRadReader initializing /home/curtis/data/dub/dub58.pic\n",
      "[java.lang.Enum.toString] 18:32:51.611 [main] INFO loci.formats.FormatHandler - Reading image dimensions\n",
      "[java.lang.Enum.toString] 18:32:51.611 [main] INFO loci.formats.FormatHandler - Reading notes\n",
      "[java.lang.Enum.toString] 18:32:51.611 [main] INFO loci.formats.FormatHandler - Populating metadata\n",
      "[java.lang.Enum.toString] 18:32:51.611 [main] INFO loci.formats.FormatHandler - Reading lookup tables\n"
     ]
    },
    {
     "name": "stdout",
     "output_type": "stream",
     "text": [
      "--> Reading /home/curtis/data/dub/dub59.pic\n"
     ]
    },
    {
     "name": "stderr",
     "output_type": "stream",
     "text": [
      "[java.lang.Enum.toString] 18:32:51.753 [main] INFO loci.formats.ImageReader - BioRadReader initializing /home/curtis/data/dub/dub59.pic\n",
      "[java.lang.Enum.toString] 18:32:51.852 [main] INFO loci.formats.FormatHandler - Reading image dimensions\n",
      "[java.lang.Enum.toString] 18:32:51.852 [main] INFO loci.formats.FormatHandler - Reading notes\n",
      "[java.lang.Enum.toString] 18:32:51.852 [main] INFO loci.formats.FormatHandler - Populating metadata\n",
      "[java.lang.Enum.toString] 18:32:51.853 [main] INFO loci.formats.FormatHandler - Reading lookup tables\n",
      "[java.lang.Enum.toString] 18:32:52.005 [main] INFO loci.formats.ImageReader - BioRadReader initializing /home/curtis/data/dub/dub60.pic\n",
      "[java.lang.Enum.toString] 18:32:52.006 [main] INFO loci.formats.FormatHandler - Reading image dimensions\n",
      "[java.lang.Enum.toString] 18:32:52.006 [main] INFO loci.formats.FormatHandler - Reading notes\n",
      "[java.lang.Enum.toString] 18:32:52.006 [main] INFO loci.formats.FormatHandler - Populating metadata\n",
      "[java.lang.Enum.toString] 18:32:52.006 [main] INFO loci.formats.FormatHandler - Reading lookup tables\n"
     ]
    },
    {
     "name": "stdout",
     "output_type": "stream",
     "text": [
      "--> Reading /home/curtis/data/dub/dub60.pic\n",
      "--> Reading /home/curtis/data/dub/dub61.pic\n"
     ]
    },
    {
     "name": "stderr",
     "output_type": "stream",
     "text": [
      "[java.lang.Enum.toString] 18:32:52.148 [main] INFO loci.formats.ImageReader - BioRadReader initializing /home/curtis/data/dub/dub61.pic\n",
      "[java.lang.Enum.toString] 18:32:52.149 [main] INFO loci.formats.FormatHandler - Reading image dimensions\n",
      "[java.lang.Enum.toString] 18:32:52.149 [main] INFO loci.formats.FormatHandler - Reading notes\n",
      "[java.lang.Enum.toString] 18:32:52.150 [main] INFO loci.formats.FormatHandler - Populating metadata\n",
      "[java.lang.Enum.toString] 18:32:52.150 [main] INFO loci.formats.FormatHandler - Reading lookup tables\n"
     ]
    },
    {
     "name": "stdout",
     "output_type": "stream",
     "text": [
      "--> Reading /home/curtis/data/dub/dub62.pic\n",
      "--> Reading /home/curtis/data/dub/dub63.pic\n"
     ]
    },
    {
     "name": "stderr",
     "output_type": "stream",
     "text": [
      "[java.lang.Enum.toString] 18:32:52.300 [main] INFO loci.formats.ImageReader - BioRadReader initializing /home/curtis/data/dub/dub62.pic\n",
      "[java.lang.Enum.toString] 18:32:52.301 [main] INFO loci.formats.FormatHandler - Reading image dimensions\n",
      "[java.lang.Enum.toString] 18:32:52.301 [main] INFO loci.formats.FormatHandler - Reading notes\n",
      "[java.lang.Enum.toString] 18:32:52.302 [main] INFO loci.formats.FormatHandler - Populating metadata\n",
      "[java.lang.Enum.toString] 18:32:52.302 [main] INFO loci.formats.FormatHandler - Reading lookup tables\n",
      "[java.lang.Enum.toString] 18:32:52.451 [main] INFO loci.formats.ImageReader - BioRadReader initializing /home/curtis/data/dub/dub63.pic\n",
      "[java.lang.Enum.toString] 18:32:52.452 [main] INFO loci.formats.FormatHandler - Reading image dimensions\n",
      "[java.lang.Enum.toString] 18:32:52.452 [main] INFO loci.formats.FormatHandler - Reading notes\n",
      "[java.lang.Enum.toString] 18:32:52.452 [main] INFO loci.formats.FormatHandler - Populating metadata\n",
      "[java.lang.Enum.toString] 18:32:52.452 [main] INFO loci.formats.FormatHandler - Reading lookup tables\n"
     ]
    },
    {
     "name": "stdout",
     "output_type": "stream",
     "text": [
      "--> Reading /home/curtis/data/dub/dub64.pic\n",
      "--> Reading /home/curtis/data/dub/dub65.pic\n"
     ]
    },
    {
     "name": "stderr",
     "output_type": "stream",
     "text": [
      "[java.lang.Enum.toString] 18:32:52.615 [main] INFO loci.formats.ImageReader - BioRadReader initializing /home/curtis/data/dub/dub64.pic\n",
      "[java.lang.Enum.toString] 18:32:52.616 [main] INFO loci.formats.FormatHandler - Reading image dimensions\n",
      "[java.lang.Enum.toString] 18:32:52.616 [main] INFO loci.formats.FormatHandler - Reading notes\n",
      "[java.lang.Enum.toString] 18:32:52.617 [main] INFO loci.formats.FormatHandler - Populating metadata\n",
      "[java.lang.Enum.toString] 18:32:52.617 [main] INFO loci.formats.FormatHandler - Reading lookup tables\n",
      "[java.lang.Enum.toString] 18:32:52.770 [main] INFO loci.formats.ImageReader - BioRadReader initializing /home/curtis/data/dub/dub65.pic\n",
      "[java.lang.Enum.toString] 18:32:52.771 [main] INFO loci.formats.FormatHandler - Reading image dimensions\n",
      "[java.lang.Enum.toString] 18:32:52.771 [main] INFO loci.formats.FormatHandler - Reading notes\n",
      "[java.lang.Enum.toString] 18:32:52.771 [main] INFO loci.formats.FormatHandler - Populating metadata\n",
      "[java.lang.Enum.toString] 18:32:52.771 [main] INFO loci.formats.FormatHandler - Reading lookup tables\n",
      "[java.lang.Enum.toString] 18:32:52.934 [main] INFO loci.formats.ImageReader - BioRadReader initializing /home/curtis/data/dub/dub66.pic\n",
      "[java.lang.Enum.toString] 18:32:52.935 [main] INFO loci.formats.FormatHandler - Reading image dimensions\n",
      "[java.lang.Enum.toString] 18:32:52.935 [main] INFO loci.formats.FormatHandler - Reading notes\n",
      "[java.lang.Enum.toString] 18:32:52.935 [main] INFO loci.formats.FormatHandler - Populating metadata\n",
      "[java.lang.Enum.toString] 18:32:52.935 [main] INFO loci.formats.FormatHandler - Reading lookup tables\n"
     ]
    },
    {
     "name": "stdout",
     "output_type": "stream",
     "text": [
      "--> Reading /home/curtis/data/dub/dub66.pic\n"
     ]
    },
    {
     "name": "stderr",
     "output_type": "stream",
     "text": [
      "[java.lang.Enum.toString] 18:32:53.244 [main] INFO loci.formats.ImageReader - BioRadReader initializing /home/curtis/data/dub/dub67.pic\n",
      "[java.lang.Enum.toString] 18:32:53.245 [main] INFO loci.formats.FormatHandler - Reading image dimensions\n",
      "[java.lang.Enum.toString] 18:32:53.245 [main] INFO loci.formats.FormatHandler - Reading notes\n",
      "[java.lang.Enum.toString] 18:32:53.246 [main] INFO loci.formats.FormatHandler - Populating metadata\n",
      "[java.lang.Enum.toString] 18:32:53.246 [main] INFO loci.formats.FormatHandler - Reading lookup tables\n"
     ]
    },
    {
     "name": "stdout",
     "output_type": "stream",
     "text": [
      "--> Reading /home/curtis/data/dub/dub67.pic\n",
      "--> Reading /home/curtis/data/dub/dub68.pic\n"
     ]
    },
    {
     "name": "stderr",
     "output_type": "stream",
     "text": [
      "[java.lang.Enum.toString] 18:32:53.401 [main] INFO loci.formats.ImageReader - BioRadReader initializing /home/curtis/data/dub/dub68.pic\n",
      "[java.lang.Enum.toString] 18:32:53.401 [main] INFO loci.formats.FormatHandler - Reading image dimensions\n",
      "[java.lang.Enum.toString] 18:32:53.401 [main] INFO loci.formats.FormatHandler - Reading notes\n",
      "[java.lang.Enum.toString] 18:32:53.402 [main] INFO loci.formats.FormatHandler - Populating metadata\n",
      "[java.lang.Enum.toString] 18:32:53.402 [main] INFO loci.formats.FormatHandler - Reading lookup tables\n"
     ]
    },
    {
     "name": "stdout",
     "output_type": "stream",
     "text": [
      "--> Reading /home/curtis/data/dub/dub69.pic\n",
      "--> Reading /home/curtis/data/dub/dub70.pic\n"
     ]
    },
    {
     "name": "stderr",
     "output_type": "stream",
     "text": [
      "[java.lang.Enum.toString] 18:32:53.553 [main] INFO loci.formats.ImageReader - BioRadReader initializing /home/curtis/data/dub/dub69.pic\n",
      "[java.lang.Enum.toString] 18:32:53.554 [main] INFO loci.formats.FormatHandler - Reading image dimensions\n",
      "[java.lang.Enum.toString] 18:32:53.554 [main] INFO loci.formats.FormatHandler - Reading notes\n",
      "[java.lang.Enum.toString] 18:32:53.555 [main] INFO loci.formats.FormatHandler - Populating metadata\n",
      "[java.lang.Enum.toString] 18:32:53.555 [main] INFO loci.formats.FormatHandler - Reading lookup tables\n",
      "[java.lang.Enum.toString] 18:32:53.704 [main] INFO loci.formats.ImageReader - BioRadReader initializing /home/curtis/data/dub/dub70.pic\n",
      "[java.lang.Enum.toString] 18:32:53.706 [main] INFO loci.formats.FormatHandler - Reading image dimensions\n",
      "[java.lang.Enum.toString] 18:32:53.706 [main] INFO loci.formats.FormatHandler - Reading notes\n",
      "[java.lang.Enum.toString] 18:32:53.706 [main] INFO loci.formats.FormatHandler - Populating metadata\n",
      "[java.lang.Enum.toString] 18:32:53.706 [main] INFO loci.formats.FormatHandler - Reading lookup tables\n"
     ]
    },
    {
     "name": "stdout",
     "output_type": "stream",
     "text": [
      "--> Reading /home/curtis/data/dub/dub71.pic\n"
     ]
    },
    {
     "name": "stderr",
     "output_type": "stream",
     "text": [
      "[java.lang.Enum.toString] 18:32:53.861 [main] INFO loci.formats.ImageReader - BioRadReader initializing /home/curtis/data/dub/dub71.pic\n",
      "[java.lang.Enum.toString] 18:32:53.992 [main] INFO loci.formats.FormatHandler - Reading image dimensions\n",
      "[java.lang.Enum.toString] 18:32:54.104 [main] INFO loci.formats.FormatHandler - Reading notes\n",
      "[java.lang.Enum.toString] 18:32:54.109 [main] INFO loci.formats.FormatHandler - Populating metadata\n",
      "[java.lang.Enum.toString] 18:32:54.227 [main] INFO loci.formats.FormatHandler - Reading lookup tables\n"
     ]
    },
    {
     "name": "stdout",
     "output_type": "stream",
     "text": [
      "--> Reading /home/curtis/data/dub/dub72.pic\n"
     ]
    },
    {
     "name": "stderr",
     "output_type": "stream",
     "text": [
      "[java.lang.Enum.toString] 18:32:54.596 [main] INFO loci.formats.ImageReader - BioRadReader initializing /home/curtis/data/dub/dub72.pic\n",
      "[java.lang.Enum.toString] 18:32:54.700 [main] INFO loci.formats.FormatHandler - Reading image dimensions\n",
      "[java.lang.Enum.toString] 18:32:54.700 [main] INFO loci.formats.FormatHandler - Reading notes\n",
      "[java.lang.Enum.toString] 18:32:54.701 [main] INFO loci.formats.FormatHandler - Populating metadata\n",
      "[java.lang.Enum.toString] 18:32:54.701 [main] INFO loci.formats.FormatHandler - Reading lookup tables\n",
      "[java.lang.Enum.toString] 18:32:54.852 [main] INFO loci.formats.ImageReader - BioRadReader initializing /home/curtis/data/dub/dub73.pic\n",
      "[java.lang.Enum.toString] 18:32:54.853 [main] INFO loci.formats.FormatHandler - Reading image dimensions\n",
      "[java.lang.Enum.toString] 18:32:54.853 [main] INFO loci.formats.FormatHandler - Reading notes\n",
      "[java.lang.Enum.toString] 18:32:54.853 [main] INFO loci.formats.FormatHandler - Populating metadata\n",
      "[java.lang.Enum.toString] 18:32:54.854 [main] INFO loci.formats.FormatHandler - Reading lookup tables\n"
     ]
    },
    {
     "name": "stdout",
     "output_type": "stream",
     "text": [
      "--> Reading /home/curtis/data/dub/dub73.pic\n",
      "--> Reading /home/curtis/data/dub/dub74.pic\n"
     ]
    },
    {
     "name": "stderr",
     "output_type": "stream",
     "text": [
      "[java.lang.Enum.toString] 18:32:55.025 [main] INFO loci.formats.ImageReader - BioRadReader initializing /home/curtis/data/dub/dub74.pic\n",
      "[java.lang.Enum.toString] 18:32:55.026 [main] INFO loci.formats.FormatHandler - Reading image dimensions\n",
      "[java.lang.Enum.toString] 18:32:55.026 [main] INFO loci.formats.FormatHandler - Reading notes\n",
      "[java.lang.Enum.toString] 18:32:55.027 [main] INFO loci.formats.FormatHandler - Populating metadata\n",
      "[java.lang.Enum.toString] 18:32:55.027 [main] INFO loci.formats.FormatHandler - Reading lookup tables\n"
     ]
    },
    {
     "name": "stdout",
     "output_type": "stream",
     "text": [
      "--> Reading /home/curtis/data/dub/dub75.pic\n",
      "--> Reading /home/curtis/data/dub/dub76.pic\n"
     ]
    },
    {
     "name": "stderr",
     "output_type": "stream",
     "text": [
      "[java.lang.Enum.toString] 18:32:55.185 [main] INFO loci.formats.ImageReader - BioRadReader initializing /home/curtis/data/dub/dub75.pic\n",
      "[java.lang.Enum.toString] 18:32:55.186 [main] INFO loci.formats.FormatHandler - Reading image dimensions\n",
      "[java.lang.Enum.toString] 18:32:55.187 [main] INFO loci.formats.FormatHandler - Reading notes\n",
      "[java.lang.Enum.toString] 18:32:55.187 [main] INFO loci.formats.FormatHandler - Populating metadata\n",
      "[java.lang.Enum.toString] 18:32:55.187 [main] INFO loci.formats.FormatHandler - Reading lookup tables\n",
      "[java.lang.Enum.toString] 18:32:55.342 [main] INFO loci.formats.ImageReader - BioRadReader initializing /home/curtis/data/dub/dub76.pic\n",
      "[java.lang.Enum.toString] 18:32:55.344 [main] INFO loci.formats.FormatHandler - Reading image dimensions\n",
      "[java.lang.Enum.toString] 18:32:55.344 [main] INFO loci.formats.FormatHandler - Reading notes\n",
      "[java.lang.Enum.toString] 18:32:55.344 [main] INFO loci.formats.FormatHandler - Populating metadata\n",
      "[java.lang.Enum.toString] 18:32:55.344 [main] INFO loci.formats.FormatHandler - Reading lookup tables\n",
      "[java.lang.Enum.toString] 18:32:55.502 [main] INFO loci.formats.ImageReader - BioRadReader initializing /home/curtis/data/dub/dub77.pic\n",
      "[java.lang.Enum.toString] 18:32:55.503 [main] INFO loci.formats.FormatHandler - Reading image dimensions\n",
      "[java.lang.Enum.toString] 18:32:55.503 [main] INFO loci.formats.FormatHandler - Reading notes\n",
      "[java.lang.Enum.toString] 18:32:55.503 [main] INFO loci.formats.FormatHandler - Populating metadata\n",
      "[java.lang.Enum.toString] 18:32:55.503 [main] INFO loci.formats.FormatHandler - Reading lookup tables\n"
     ]
    },
    {
     "name": "stdout",
     "output_type": "stream",
     "text": [
      "--> Reading /home/curtis/data/dub/dub77.pic\n",
      "--> Reading /home/curtis/data/dub/dub78.pic\n"
     ]
    },
    {
     "name": "stderr",
     "output_type": "stream",
     "text": [
      "[java.lang.Enum.toString] 18:32:55.662 [main] INFO loci.formats.ImageReader - BioRadReader initializing /home/curtis/data/dub/dub78.pic\n",
      "[java.lang.Enum.toString] 18:32:55.663 [main] INFO loci.formats.FormatHandler - Reading image dimensions\n",
      "[java.lang.Enum.toString] 18:32:55.663 [main] INFO loci.formats.FormatHandler - Reading notes\n",
      "[java.lang.Enum.toString] 18:32:55.664 [main] INFO loci.formats.FormatHandler - Populating metadata\n",
      "[java.lang.Enum.toString] 18:32:55.664 [main] INFO loci.formats.FormatHandler - Reading lookup tables\n",
      "[java.lang.Enum.toString] 18:32:55.822 [main] INFO loci.formats.ImageReader - BioRadReader initializing /home/curtis/data/dub/dub79.pic\n",
      "[java.lang.Enum.toString] 18:32:55.823 [main] INFO loci.formats.FormatHandler - Reading image dimensions\n",
      "[java.lang.Enum.toString] 18:32:55.823 [main] INFO loci.formats.FormatHandler - Reading notes\n",
      "[java.lang.Enum.toString] 18:32:55.823 [main] INFO loci.formats.FormatHandler - Populating metadata\n",
      "[java.lang.Enum.toString] 18:32:55.823 [main] INFO loci.formats.FormatHandler - Reading lookup tables\n"
     ]
    },
    {
     "name": "stdout",
     "output_type": "stream",
     "text": [
      "--> Reading /home/curtis/data/dub/dub79.pic\n"
     ]
    },
    {
     "name": "stderr",
     "output_type": "stream",
     "text": []
    },
    {
     "name": "stdout",
     "output_type": "stream",
     "text": [
      "--> Reading /home/curtis/data/dub/dub80.pic\n",
      "--> Reading /home/curtis/data/dub/dub81.pic\n"
     ]
    },
    {
     "name": "stderr",
     "output_type": "stream",
     "text": [
      "[java.lang.Enum.toString] 18:32:56.165 [main] INFO loci.formats.ImageReader - BioRadReader initializing /home/curtis/data/dub/dub80.pic\n",
      "[java.lang.Enum.toString] 18:32:56.166 [main] INFO loci.formats.FormatHandler - Reading image dimensions\n",
      "[java.lang.Enum.toString] 18:32:56.166 [main] INFO loci.formats.FormatHandler - Reading notes\n",
      "[java.lang.Enum.toString] 18:32:56.166 [main] INFO loci.formats.FormatHandler - Populating metadata\n",
      "[java.lang.Enum.toString] 18:32:56.166 [main] INFO loci.formats.FormatHandler - Reading lookup tables\n",
      "[java.lang.Enum.toString] 18:32:56.331 [main] INFO loci.formats.ImageReader - BioRadReader initializing /home/curtis/data/dub/dub81.pic\n",
      "[java.lang.Enum.toString] 18:32:56.332 [main] INFO loci.formats.FormatHandler - Reading image dimensions\n",
      "[java.lang.Enum.toString] 18:32:56.332 [main] INFO loci.formats.FormatHandler - Reading notes\n",
      "[java.lang.Enum.toString] 18:32:56.333 [main] INFO loci.formats.FormatHandler - Populating metadata\n",
      "[java.lang.Enum.toString] 18:32:56.333 [main] INFO loci.formats.FormatHandler - Reading lookup tables\n",
      "[java.lang.Enum.toString] 18:32:56.499 [main] INFO loci.formats.ImageReader - BioRadReader initializing /home/curtis/data/dub/dub82.pic\n",
      "[java.lang.Enum.toString] 18:32:56.500 [main] INFO loci.formats.FormatHandler - Reading image dimensions\n",
      "[java.lang.Enum.toString] 18:32:56.500 [main] INFO loci.formats.FormatHandler - Reading notes\n",
      "[java.lang.Enum.toString] 18:32:56.501 [main] INFO loci.formats.FormatHandler - Populating metadata\n",
      "[java.lang.Enum.toString] 18:32:56.501 [main] INFO loci.formats.FormatHandler - Reading lookup tables\n"
     ]
    },
    {
     "name": "stdout",
     "output_type": "stream",
     "text": [
      "--> Reading /home/curtis/data/dub/dub82.pic\n",
      "--> Reading /home/curtis/data/dub/dub83.pic\n"
     ]
    },
    {
     "name": "stderr",
     "output_type": "stream",
     "text": [
      "[java.lang.Enum.toString] 18:32:56.675 [main] INFO loci.formats.ImageReader - BioRadReader initializing /home/curtis/data/dub/dub83.pic\n",
      "[java.lang.Enum.toString] 18:32:56.676 [main] INFO loci.formats.FormatHandler - Reading image dimensions\n",
      "[java.lang.Enum.toString] 18:32:56.676 [main] INFO loci.formats.FormatHandler - Reading notes\n",
      "[java.lang.Enum.toString] 18:32:56.676 [main] INFO loci.formats.FormatHandler - Populating metadata\n",
      "[java.lang.Enum.toString] 18:32:56.677 [main] INFO loci.formats.FormatHandler - Reading lookup tables\n",
      "[java.lang.Enum.toString] 18:32:56.843 [main] INFO loci.formats.ImageReader - BioRadReader initializing /home/curtis/data/dub/dub84.pic\n",
      "[java.lang.Enum.toString] 18:32:56.844 [main] INFO loci.formats.FormatHandler - Reading image dimensions\n",
      "[java.lang.Enum.toString] 18:32:56.844 [main] INFO loci.formats.FormatHandler - Reading notes\n",
      "[java.lang.Enum.toString] 18:32:56.845 [main] INFO loci.formats.FormatHandler - Populating metadata\n",
      "[java.lang.Enum.toString] 18:32:56.845 [main] INFO loci.formats.FormatHandler - Reading lookup tables\n"
     ]
    },
    {
     "name": "stdout",
     "output_type": "stream",
     "text": [
      "--> Reading /home/curtis/data/dub/dub84.pic\n"
     ]
    },
    {
     "name": "stderr",
     "output_type": "stream",
     "text": []
    },
    {
     "name": "stdout",
     "output_type": "stream",
     "text": [
      "--> Reading /home/curtis/data/dub/dub85.pic\n"
     ]
    },
    {
     "name": "stderr",
     "output_type": "stream",
     "text": [
      "[java.lang.Enum.toString] 18:32:57.156 [main] INFO loci.formats.ImageReader - BioRadReader initializing /home/curtis/data/dub/dub85.pic\n",
      "[java.lang.Enum.toString] 18:32:57.296 [main] INFO loci.formats.FormatHandler - Reading image dimensions\n",
      "[java.lang.Enum.toString] 18:32:57.297 [main] INFO loci.formats.FormatHandler - Reading notes\n",
      "[java.lang.Enum.toString] 18:32:57.297 [main] INFO loci.formats.FormatHandler - Populating metadata\n",
      "[java.lang.Enum.toString] 18:32:57.297 [main] INFO loci.formats.FormatHandler - Reading lookup tables\n",
      "<ipython-input-7-7d79b1d0e778>:11: DeprecationWarning: The viewer.grid_view method is deprecated and will be removed after version 0.4.4. Instead you should use the viewer.grid.enabled = Turn to turn on the grid view, and viewer.grid.shape and viewer.grid.stride to set the size and stride of the grid respectively.\n",
      "  viewer.grid_view()\n"
     ]
    }
   ],
   "source": [
    "import os\n",
    "images = []\n",
    "for i in range(1, dub_count+1):\n",
    "    path = os.path.join(dub_folder, f'dub{i:02}.pic')\n",
    "    print(f'--> Reading {path}')\n",
    "    dataset = ij.io().open(path)\n",
    "    image = ij.py.from_java(dataset)\n",
    "    viewer.add_image(image)\n",
    "    images.append(image)\n",
    "\n",
    "viewer.grid_view()"
   ]
  },
  {
   "cell_type": "code",
   "execution_count": 8,
   "metadata": {},
   "outputs": [],
   "source": [
    "import numpy\n",
    "time_series = numpy.concatenate([layer.data for layer in viewer.layers]).reshape([len(viewer.layers)] + list(viewer.layers[0].data.shape))\n",
    "viewer3d = napari.view_image(time_series, name='dub')\n",
    "viewer3d.layers[0].scale = [10, 1, 1]"
   ]
  }
 ],
 "metadata": {
  "kernelspec": {
   "display_name": "Python 3",
   "language": "python",
   "name": "python3"
  },
  "language_info": {
   "codemirror_mode": {
    "name": "ipython",
    "version": 3
   },
   "file_extension": ".py",
   "mimetype": "text/x-python",
   "name": "python",
   "nbconvert_exporter": "python",
   "pygments_lexer": "ipython3",
   "version": "3.8.6"
  },
  "toc": {
   "base_numbering": 1,
   "nav_menu": {},
   "number_sections": true,
   "sideBar": true,
   "skip_h1_title": true,
   "title_cell": "Table of Contents",
   "title_sidebar": "Contents",
   "toc_cell": false,
   "toc_position": {
    "height": "calc(100% - 180px)",
    "left": "10px",
    "top": "150px",
    "width": "307px"
   },
   "toc_section_display": true,
   "toc_window_display": true
  }
 },
 "nbformat": 4,
 "nbformat_minor": 4
}
